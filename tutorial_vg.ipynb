{
 "cells": [
  {
   "cell_type": "code",
   "execution_count": 1,
   "metadata": {},
   "outputs": [
    {
     "name": "stdout",
     "output_type": "stream",
     "text": [
      "The autoreload extension is already loaded. To reload it, use:\n",
      "  %reload_ext autoreload\n"
     ]
    }
   ],
   "source": [
    "%load_ext autoreload\n",
    "%autoreload 2\n",
    "\n",
    "import numpy as np\n",
    "import matplotlib.pyplot as plt\n",
    "%matplotlib inline\n",
    "\n",
    "import warnings\n",
    "warnings.filterwarnings('ignore')"
   ]
  },
  {
   "cell_type": "markdown",
   "metadata": {},
   "source": [
    "## Load Dataset"
   ]
  },
  {
   "cell_type": "code",
   "execution_count": 2,
   "metadata": {},
   "outputs": [],
   "source": [
    "dataset='visual_genome'\n",
    "\n",
    "from data.loader import DataLoader\n",
    "dl = DataLoader()\n",
    "train_primitive_matrix, val_primitive_matrix, test_primitive_matrix, \\\n",
    "train_ground, val_ground, test_ground = dl.load_data(dataset=dataset)"
   ]
  },
  {
   "cell_type": "markdown",
   "metadata": {},
   "source": [
    "## Synthesis + Verification\n",
    "Generate functions based on feedback from the verifier (vary cardinality)"
   ]
  },
  {
   "cell_type": "code",
   "execution_count": 3,
   "metadata": {},
   "outputs": [],
   "source": [
    "#import time\n",
    "#start = time.time()\n",
    "\n",
    "from program_synthesis.heuristic_generator import HeuristicGenerator\n",
    "validation_accuracy = []\n",
    "training_accuracy = []\n",
    "validation_coverage = []\n",
    "training_coverage = []\n",
    "\n",
    "training_marginals = []\n",
    "idx = None\n",
    "\n",
    "hg = HeuristicGenerator(train_primitive_matrix, val_primitive_matrix, \n",
    "                            val_ground, train_ground, \n",
    "                            b=0.35)\n",
    "for i in range(3,20):\n",
    "    if i == 3:\n",
    "        hg.run_synthesizer(max_cardinality=2, idx=idx, keep=3, model='dt')\n",
    "    else:\n",
    "        hg.run_synthesizer(max_cardinality=2, idx=idx, keep=1, model='dt')\n",
    "    hg.run_verifier()\n",
    "    \n",
    "    va,ta, vc, tc = hg.evaluate()\n",
    "    validation_accuracy.append(va)\n",
    "    training_accuracy.append(ta)\n",
    "    training_marginals.append(hg.vf.train_marginals)\n",
    "    validation_coverage.append(vc)\n",
    "    training_coverage.append(tc)\n",
    "    \n",
    "    #idx=None\n",
    "    \n",
    "    hg.find_feedback()\n",
    "    idx = hg.feedback_idx\n",
    "    \n",
    "    \n",
    "    if idx == []:\n",
    "        break\n",
    "\n",
    "    #print 'Time Elapsed: ', time.time() - start"
   ]
  },
  {
   "cell_type": "code",
   "execution_count": 4,
   "metadata": {},
   "outputs": [
    {
     "name": "stdout",
     "output_type": "stream",
     "text": [
      "Accuracy of Reef on Train Set:  0.7769886363636364\n",
      "Number of Heuristics:  12\n"
     ]
    }
   ],
   "source": [
    "print \"Accuracy of Reef on Train Set: \", np.max(training_accuracy[1:])\n",
    "print \"Number of Heuristics: \", np.argmax(training_accuracy[1:])+4"
   ]
  },
  {
   "cell_type": "markdown",
   "metadata": {},
   "source": [
    "## Baselines using Labeled and Unlabeled Data"
   ]
  },
  {
   "cell_type": "markdown",
   "metadata": {},
   "source": [
    "[**Decision Tree**](http://scikit-learn.org/stable/modules/generated/sklearn.tree.DecisionTreeClassifier.html#sklearn.tree.DecisionTreeClassifier)\n",
    "Depth bound is unbounded, using default settings. Could do a finer comparison if needed."
   ]
  },
  {
   "cell_type": "code",
   "execution_count": 5,
   "metadata": {},
   "outputs": [
    {
     "name": "stdout",
     "output_type": "stream",
     "text": [
      "Accuracy of Decision Tree on Train Set:  0.698781838316722\n"
     ]
    }
   ],
   "source": [
    "from baselines.models import DecisionTree\n",
    "dt = DecisionTree(train_primitive_matrix, val_primitive_matrix, \n",
    "                            val_ground, train_ground)\n",
    "dt.fit()\n",
    "va,ta, vc, tc = dt.evaluate()\n",
    "print \"Accuracy of Decision Tree on Train Set: \", ta"
   ]
  },
  {
   "cell_type": "markdown",
   "metadata": {},
   "source": [
    "[**Boosting (AdaBoost)**](http://scikit-learn.org/stable/modules/generated/sklearn.ensemble.AdaBoostClassifier.html#sklearn.ensemble.AdaBoostClassifier) No bound of the number of estimators yet, could bound by number of primitives for \"fair\" comparison?"
   ]
  },
  {
   "cell_type": "code",
   "execution_count": 6,
   "metadata": {},
   "outputs": [
    {
     "name": "stdout",
     "output_type": "stream",
     "text": [
      "Accuracy of Boosting on Train Set:  0.7043189368770764\n"
     ]
    }
   ],
   "source": [
    "from baselines.models import BoostClassifier\n",
    "bc = BoostClassifier(train_primitive_matrix, val_primitive_matrix, \n",
    "                            val_ground, train_ground)\n",
    "bc.fit()\n",
    "va,ta, vc, tc = bc.evaluate()\n",
    "print \"Accuracy of Boosting on Train Set: \", ta"
   ]
  },
  {
   "cell_type": "markdown",
   "metadata": {},
   "source": [
    "[**LabelPropagation (Normal Semi-Supervised)**](http://scikit-learn.org/stable/modules/generated/sklearn.semi_supervised.LabelSpreading.html#sklearn.semi_supervised.LabelSpreading)\n",
    "Semi-supervised method that is robust to noise. Fits with both the labeled and unlabeled examples"
   ]
  },
  {
   "cell_type": "code",
   "execution_count": 7,
   "metadata": {},
   "outputs": [
    {
     "name": "stdout",
     "output_type": "stream",
     "text": [
      "Accuracy of Semi-Supervised on Train Set:  0.6013289036544851\n"
     ]
    }
   ],
   "source": [
    "from baselines.models import SemiSupervised\n",
    "ss = SemiSupervised(train_primitive_matrix, val_primitive_matrix, \n",
    "                            val_ground, train_ground)\n",
    "ss.fit()\n",
    "va,ta, vc, tc = ss.evaluate()\n",
    "print \"Accuracy of Semi-Supervised on Train Set: \", ta"
   ]
  }
 ],
 "metadata": {
  "kernelspec": {
   "display_name": "Python 2",
   "language": "python",
   "name": "python2"
  },
  "language_info": {
   "codemirror_mode": {
    "name": "ipython",
    "version": 2
   },
   "file_extension": ".py",
   "mimetype": "text/x-python",
   "name": "python",
   "nbconvert_exporter": "python",
   "pygments_lexer": "ipython2",
   "version": "2.7.13"
  }
 },
 "nbformat": 4,
 "nbformat_minor": 2
}
