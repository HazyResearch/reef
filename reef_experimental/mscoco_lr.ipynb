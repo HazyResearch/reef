{
 "cells": [
  {
   "cell_type": "code",
   "execution_count": 4,
   "metadata": {},
   "outputs": [
    {
     "name": "stdout",
     "output_type": "stream",
     "text": [
      "The autoreload extension is already loaded. To reload it, use:\n",
      "  %reload_ext autoreload\n"
     ]
    }
   ],
   "source": [
    "%load_ext autoreload\n",
    "%autoreload 2\n",
    "\n",
    "import warnings\n",
    "warnings.filterwarnings('ignore')\n",
    "\n",
    "import numpy as np\n",
    "from sklearn import *\n",
    "\n",
    "import matplotlib.pyplot as plt\n",
    "%matplotlib inline"
   ]
  },
  {
   "cell_type": "code",
   "execution_count": 5,
   "metadata": {},
   "outputs": [],
   "source": [
    "from snorkel.learning import LogisticRegression\n",
    "disc_model = LogisticRegression()"
   ]
  },
  {
   "cell_type": "code",
   "execution_count": 6,
   "metadata": {},
   "outputs": [],
   "source": [
    "train_labels = np.load('/dfs/scratch0/paroma/reef/mscoco_gt.npy')\n",
    "\n",
    "labels = np.load('/dfs/scratch0/paroma/data/mscoco/ground_val.npy')\n",
    "feats_train = np.load('/dfs/scratch0/paroma/data/mscoco/feats_train.npy')\n",
    "feats_val = np.load('/dfs/scratch0/paroma/data/mscoco/feats_val.npy')"
   ]
  },
  {
   "cell_type": "code",
   "execution_count": 7,
   "metadata": {},
   "outputs": [],
   "source": [
    "train_idx = np.random.choice(np.shape(train_labels)[0], 6693) \n",
    "train_labels = train_labels[train_idx]\n",
    "feats_train = feats_train[train_idx,:]"
   ]
  },
  {
   "cell_type": "code",
   "execution_count": 16,
   "metadata": {},
   "outputs": [],
   "source": [
    "f1_all = []\n",
    "pr_all = []\n",
    "re_all = []\n",
    "val_acc_all = []\n",
    "\n",
    "\n",
    "lr_arr = [1e-3, 5e-3, 1e-2, 5e-2, 1e-1]\n",
    "reg_arr = [1e-1,1e-2,1e-3]\n",
    "#n_epochs_arr = [5,10,25]\n",
    "n_epochs_arr = [5]\n",
    "\n",
    "for lr in lr_arr:\n",
    "    for reg in reg_arr:\n",
    "        for n_epochs in n_epochs_arr:\n",
    "            disc_model.train(feats_train, (train_labels+1.)/2., reg=reg, lr=lr, batch_size=400, n_epochs=n_epochs, rebalance=False, print_freq=0)\n",
    "            predictions = disc_model.predictions(feats_val)\n",
    "            \n",
    "            val_acc_all.append(np.sum(predictions == labels)/float(np.shape(labels)[0]))\n",
    "            f1_all.append(metrics.f1_score(labels, predictions))\n",
    "            pr_all.append(metrics.precision_score(labels, predictions))\n",
    "            re_all.append(metrics.recall_score(labels, predictions))"
   ]
  },
  {
   "cell_type": "code",
   "execution_count": 17,
   "metadata": {},
   "outputs": [
    {
     "name": "stdout",
     "output_type": "stream",
     "text": [
      "Best Lr:  0.001\n",
      "Best Reg:  0.001\n",
      "Best Epochs:  5\n",
      "F1 Score:  0.6704847045676771\n"
     ]
    }
   ],
   "source": [
    "ii,jj,kk = np.unravel_index(np.argmax(f1_all), (5,3,3))\n",
    "print 'Best Lr: ', lr_arr[ii]\n",
    "print 'Best Reg: ', reg_arr[jj]\n",
    "print 'Best Epochs: ', n_epochs_arr[kk]\n",
    "print 'F1 Score: ', max(f1_all)"
   ]
  },
  {
   "cell_type": "code",
   "execution_count": 18,
   "metadata": {},
   "outputs": [
    {
     "name": "stdout",
     "output_type": "stream",
     "text": [
      "Best Val Acc:  0.6502315852383087\n",
      "\n",
      "Best F1:  0.6704847045676771\n",
      "Best Pr:  0.6305832895428272\n",
      "Best Re:  0.7157769161944527\n"
     ]
    }
   ],
   "source": [
    "print 'Best Val Acc: ', np.max(val_acc_all)\n",
    "print '\\nBest F1: ', np.max(f1_all)\n",
    "print 'Best Pr: ', pr_all[np.argmax(f1_all)]\n",
    "print 'Best Re: ', re_all[np.argmax(f1_all)]"
   ]
  },
  {
   "cell_type": "code",
   "execution_count": null,
   "metadata": {},
   "outputs": [],
   "source": []
  }
 ],
 "metadata": {
  "kernelspec": {
   "display_name": "Python 2",
   "language": "python",
   "name": "python2"
  },
  "language_info": {
   "codemirror_mode": {
    "name": "ipython",
    "version": 2
   },
   "file_extension": ".py",
   "mimetype": "text/x-python",
   "name": "python",
   "nbconvert_exporter": "python",
   "pygments_lexer": "ipython2",
   "version": "2.7.13"
  }
 },
 "nbformat": 4,
 "nbformat_minor": 2
}
