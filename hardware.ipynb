{
 "cells": [
  {
   "cell_type": "code",
   "execution_count": 1,
   "metadata": {},
   "outputs": [
    {
     "name": "stdout",
     "output_type": "stream",
     "text": [
      "The autoreload extension is already loaded. To reload it, use:\n",
      "  %reload_ext autoreload\n"
     ]
    }
   ],
   "source": [
    "%load_ext autoreload\n",
    "%autoreload 2\n",
    "\n",
    "import numpy as np\n",
    "import matplotlib.pyplot as plt\n",
    "%matplotlib inline\n",
    "\n",
    "import warnings\n",
    "warnings.filterwarnings('ignore')"
   ]
  },
  {
   "cell_type": "markdown",
   "metadata": {},
   "source": [
    "## Load Dataset"
   ]
  },
  {
   "cell_type": "code",
   "execution_count": 2,
   "metadata": {},
   "outputs": [],
   "source": [
    "from scipy import sparse\n",
    "import numpy as np\n",
    "\n",
    "\n",
    "def save_sparse_csr(filename, array):\n",
    "    np.savez(filename, data=array.data, indices=array.indices,\n",
    "             indptr=array.indptr, shape=array.shape)\n",
    "\n",
    "def load_sparse_csr(filename):\n",
    "    loader = np.load(filename)\n",
    "    return sparse.csr_matrix((loader['data'], loader['indices'], loader['indptr']),\n",
    "                      shape=loader['shape'])"
   ]
  },
  {
   "cell_type": "code",
   "execution_count": 3,
   "metadata": {},
   "outputs": [],
   "source": [
    "folder = '/dfs/scratch0/paroma/fonduer/'\n",
    "F_train = load_sparse_csr(folder+'F_train.npz')\n",
    "F_dev = load_sparse_csr(folder+'F_dev.npz')\n",
    "train_ground = np.load(folder+'train_ground.npy')\n",
    "val_ground = np.load(folder+'dev_ground.npy')"
   ]
  },
  {
   "cell_type": "code",
   "execution_count": 4,
   "metadata": {},
   "outputs": [],
   "source": [
    "feat_names = np.load(folder+'feat_names.npy')\n",
    "primitive_idx = [i for i in range(len(feat_names)) if (feat_names[i].startswith('STR_') or feat_names[i].startswith('TAB_') or feat_names[i].startswith('VIZ_'))]\n",
    "feat_idx = list(set(range(len(feat_names))) - set(primitive_idx))\n",
    "\n",
    "train_primitive_matrix = F_train[:,primitive_idx]\n",
    "val_primitive_matrix = F_dev[:,primitive_idx]"
   ]
  },
  {
   "cell_type": "code",
   "execution_count": 5,
   "metadata": {},
   "outputs": [
    {
     "data": {
      "text/plain": [
       "(array([ 2,  3, 12, 14, 17, 20, 21, 22, 27, 35, 36, 37, 40, 41, 44, 47, 49,\n",
       "        53, 59, 66, 68, 71, 72, 73, 74, 76, 86, 90, 91, 99]),)"
      ]
     },
     "execution_count": 5,
     "metadata": {},
     "output_type": "execute_result"
    }
   ],
   "source": [
    "from numpy import random\n",
    "random.seed(124)\n",
    "\n",
    "train_idx = random.choice(np.shape(F_train)[0],100000)\n",
    "val_idx = random.choice(np.shape(F_dev)[0],100)\n",
    "\n",
    "train_ground = train_ground[train_idx]\n",
    "val_ground = val_ground[val_idx]\n",
    "np.where(val_ground == 1.)"
   ]
  },
  {
   "cell_type": "code",
   "execution_count": 6,
   "metadata": {},
   "outputs": [],
   "source": [
    "from data.loader import DataLoader\n",
    "dl = DataLoader()\n",
    "\n",
    "train_primitive_matrix = np.array(train_primitive_matrix[train_idx,:].todense())\n",
    "val_primitive_matrix = np.array(val_primitive_matrix[val_idx,:].todense())\n",
    "\n",
    "common_idx = dl.prune_features(val_primitive_matrix, train_primitive_matrix, thresh=0.05)"
   ]
  },
  {
   "cell_type": "markdown",
   "metadata": {},
   "source": [
    "## Synthesis + Verification\n",
    "Generate functions based on feedback from the verifier (vary cardinality)"
   ]
  },
  {
   "cell_type": "code",
   "execution_count": 23,
   "metadata": {},
   "outputs": [
    {
     "name": "stdout",
     "output_type": "stream",
     "text": [
      "3\n",
      "867.195682049\n"
     ]
    }
   ],
   "source": [
    "from program_synthesis.heuristic_generator import HeuristicGenerator\n",
    "validation_accuracy = []\n",
    "training_accuracy = []\n",
    "validation_coverage = []\n",
    "training_coverage = []\n",
    "\n",
    "training_marginals = []\n",
    "idx = None\n",
    "weights = None\n",
    "\n",
    "hg = HeuristicGenerator(train_primitive_matrix, val_primitive_matrix, \n",
    "                            val_ground, train_ground, \n",
    "                            b=0.5)\n",
    "import time\n",
    "start = time.time()\n",
    "for i in range(3,20):\n",
    "    print i\n",
    "    if i == 3:\n",
    "        hg.run_synthesizer(max_cardinality=1, idx=None, weights=weights, keep=3, model='dt')\n",
    "    else:\n",
    "        hg.run_synthesizer(max_cardinality=1, idx=None, weights=weights, keep=1, model='dt')\n",
    "    hg.run_verifier()\n",
    "    \n",
    "    va,ta, vc, tc = hg.evaluate()\n",
    "    validation_accuracy.append(va)\n",
    "    training_accuracy.append(ta)\n",
    "    training_marginals.append(hg.vf.train_marginals)\n",
    "    validation_coverage.append(vc)\n",
    "    training_coverage.append(tc)\n",
    "        \n",
    "    hg.find_feedback()\n",
    "    idx = hg.feedback_idx\n",
    "    \n",
    "    #For Rebuttal\n",
    "    #weights = hg.vf.find_weighted_vague_points()\n",
    "    \n",
    "    if idx == []:\n",
    "        break\n",
    "print time.time() - start"
   ]
  },
  {
   "cell_type": "code",
   "execution_count": 28,
   "metadata": {},
   "outputs": [],
   "source": [
    "np.save('/dfs/scratch0/paroma/reef/hardware_reef_5.npy', np.array(training_marginals[-1]))"
   ]
  },
  {
   "cell_type": "code",
   "execution_count": 25,
   "metadata": {},
   "outputs": [
    {
     "data": {
      "text/plain": [
       "(array([98311.,   612.,     0.,     0.,     0.,     0.,     0.,   198.,\n",
       "            0.,   879.]),\n",
       " array([1.28555892e-04, 1.00102845e-01, 2.00077134e-01, 3.00051422e-01,\n",
       "        4.00025711e-01, 5.00000000e-01, 5.99974289e-01, 6.99948578e-01,\n",
       "        7.99922866e-01, 8.99897155e-01, 9.99871444e-01]),\n",
       " <a list of 10 Patch objects>)"
      ]
     },
     "execution_count": 25,
     "metadata": {},
     "output_type": "execute_result"
    },
    {
     "data": {
      "image/png": "[encoded data removed]",
      "text/plain": [
       "<matplotlib.figure.Figure at 0x7f0fa1e674d0>"
      ]
     },
     "metadata": {},
     "output_type": "display_data"
    }
   ],
   "source": [
    "plt.hist(training_marginals[-1])"
   ]
  },
  {
   "cell_type": "code",
   "execution_count": 17,
   "metadata": {},
   "outputs": [],
   "source": [
    "np.save('hardware_udh.npy', np.array(training_marginals))"
   ]
  },
  {
   "cell_type": "markdown",
   "metadata": {},
   "source": [
    "### Visualize Heuristic Behavior"
   ]
  },
  {
   "cell_type": "code",
   "execution_count": 18,
   "metadata": {},
   "outputs": [
    {
     "ename": "NameError",
     "evalue": "name 'dataset' is not defined",
     "output_type": "error",
     "traceback": [
      "\u001b[0;31m---------------------------------------------------------------------------\u001b[0m",
      "\u001b[0;31mNameError\u001b[0m                                 Traceback (most recent call last)",
      "\u001b[0;32m<ipython-input-18-8e62f8c66a5a>\u001b[0m in \u001b[0;36m<module>\u001b[0;34m()\u001b[0m\n\u001b[1;32m     19\u001b[0m \u001b[0mplt\u001b[0m\u001b[0;34m.\u001b[0m\u001b[0mylabel\u001b[0m\u001b[0;34m(\u001b[0m\u001b[0;34m'Accuracy and Coverage'\u001b[0m\u001b[0;34m)\u001b[0m\u001b[0;34m\u001b[0m\u001b[0m\n\u001b[1;32m     20\u001b[0m \u001b[0;31m#plt.ylim([0.55,1.0])\u001b[0m\u001b[0;34m\u001b[0m\u001b[0;34m\u001b[0m\u001b[0m\n\u001b[0;32m---> 21\u001b[0;31m \u001b[0mplt\u001b[0m\u001b[0;34m.\u001b[0m\u001b[0msuptitle\u001b[0m\u001b[0;34m(\u001b[0m\u001b[0;34m'Dataset: '\u001b[0m \u001b[0;34m+\u001b[0m \u001b[0mdataset\u001b[0m\u001b[0;34m)\u001b[0m\u001b[0;34m\u001b[0m\u001b[0m\n\u001b[0m",
      "\u001b[0;31mNameError\u001b[0m: name 'dataset' is not defined"
     ]
    },
    {
     "data": {
      "image/png": "[encoded data removed]",
      "text/plain": [
       "<matplotlib.figure.Figure at 0x7f0fa822af90>"
      ]
     },
     "metadata": {},
     "output_type": "display_data"
    }
   ],
   "source": [
    "plt.figure(figsize=(12,4))\n",
    "plt.subplot(1,2,1)\n",
    "plt.plot(range(3,20),validation_accuracy, color='C0')\n",
    "plt.plot(range(3,20),training_accuracy, color='C1')\n",
    "plt.plot(range(3,20),validation_coverage, color='C0', linestyle='--')\n",
    "plt.plot(range(3,20),training_coverage, color='C1', linestyle='--')\n",
    "plt.legend(['Validation Set', 'Training Set'])\n",
    "plt.xlabel('Number of Heuristics')\n",
    "plt.ylabel('Accuracy and Coverage')\n",
    "#plt.ylim([0.55,1.0])\n",
    "\n",
    "plt.subplot(1,2,2)\n",
    "bm = [(a*b) + (0.5*(1-b)) for a,b in zip(validation_accuracy,validation_coverage)] \n",
    "plt.plot(range(3,20),bm, color='C0')\n",
    "bm = [(a*b) + (0.5*(1-b)) for a,b in zip(training_accuracy,training_coverage)] \n",
    "plt.plot(range(3,20),bm, color='C1')\n",
    "plt.legend(['Validation Set', 'Training Set'])\n",
    "plt.xlabel('Number of Heuristics')\n",
    "plt.ylabel('Accuracy and Coverage')\n",
    "#plt.ylim([0.55,1.0])\n",
    "plt.suptitle('Dataset: ' + dataset)"
   ]
  },
  {
   "cell_type": "code",
   "execution_count": 19,
   "metadata": {},
   "outputs": [
    {
     "name": "stdout",
     "output_type": "stream",
     "text": [
      "Program Synthesis Train Accuracy:  0.0\n",
      "Program Synthesis Train Coverage:  0.73737\n",
      "Number of Heuristics:  4\n",
      "Program Synthesis Validation Accuracy:  0.46153846153846156\n"
     ]
    }
   ],
   "source": [
    "print \"Program Synthesis Train Accuracy: \", np.max(training_accuracy[1:])\n",
    "print \"Program Synthesis Train Coverage: \", training_coverage[1:][np.argmax(training_accuracy[1:])]\n",
    "print \"Number of Heuristics: \", np.argmax(training_accuracy[1:])+4\n",
    "\n",
    "print \"Program Synthesis Validation Accuracy: \", np.max(validation_accuracy[3:])"
   ]
  },
  {
   "cell_type": "code",
   "execution_count": 15,
   "metadata": {},
   "outputs": [],
   "source": [
    "# filepath = '/dfs/scratch0/paroma/reef/' + dataset\n",
    "# old_reef = np.load(filepath+'_reef_nn2.npy')\n",
    "\n",
    "# plt.hist(old_reef, bins=10, range=[0.0,1.0], alpha=0.75)\n",
    "# plt.hist(training_marginals[1], bins=10, range=[0.0,1.0], alpha=0.75)\n",
    "# plt.legend(['Subset', 'Weighted'])"
   ]
  },
  {
   "cell_type": "markdown",
   "metadata": {},
   "source": [
    "### Save Reef Marginals"
   ]
  },
  {
   "cell_type": "code",
   "execution_count": 20,
   "metadata": {},
   "outputs": [],
   "source": [
    "filepath = '/dfs/scratch0/paroma/reef/hardware'\n",
    "np.save(filepath+'_reef.npy', training_marginals[-1])"
   ]
  },
  {
   "cell_type": "code",
   "execution_count": 9,
   "metadata": {},
   "outputs": [],
   "source": [
    "beta_opt = hg.syn.find_optimal_beta(hg.hf, hg.val_primitive_matrix, hg.feat_combos, hg.val_ground)\n",
    "L_train_all = hg.apply_heuristics(hg.hf, primitive_matrix, hg.feat_combos, beta_opt)\n",
    "\n",
    "from program_synthesis.verifier import Verifier\n",
    "vf_temp = Verifier(L_train_all,L_train_all,train_ground, has_snorkel=False)\n",
    "vf_temp.train_gen_model()\n",
    "vf_temp.assign_marginals()\n",
    "training_all = vf_temp.train_marginals\n",
    "\n",
    "filepath = '/dfs/scratch0/paroma/reef/' + dataset\n",
    "np.save(filepath+'_reef_pruner.npy', training_all)"
   ]
  },
  {
   "cell_type": "markdown",
   "metadata": {},
   "source": [
    "## Calculate Baselines"
   ]
  },
  {
   "cell_type": "code",
   "execution_count": 3,
   "metadata": {},
   "outputs": [],
   "source": [
    "# primitive_matrix = np.load('./data/mammogram/primitive_matrix.npy')\n",
    "# primitive_matrix = primitive_matrix.T"
   ]
  },
  {
   "cell_type": "markdown",
   "metadata": {},
   "source": [
    "[**Decision Tree**](http://scikit-learn.org/stable/modules/generated/sklearn.tree.DecisionTreeClassifier.html#sklearn.tree.DecisionTreeClassifier)\n",
    "Depth bound is unbounded, using default settings. Could do a finer comparison if needed."
   ]
  },
  {
   "cell_type": "code",
   "execution_count": 8,
   "metadata": {},
   "outputs": [
    {
     "name": "stdout",
     "output_type": "stream",
     "text": [
      "Decision Tree Train Accuracy:  0.6385613857240452\n",
      "Decision Tree Validation Accuracy:  0.925531914893617\n"
     ]
    }
   ],
   "source": [
    "from baselines.models import DecisionTree\n",
    "dt = DecisionTree(train_primitive_matrix, val_primitive_matrix, \n",
    "                            val_ground, train_ground)\n",
    "dt.fit()\n",
    "va,ta, vc, tc = dt.evaluate()\n",
    "print \"Decision Tree Train Accuracy: \", ta\n",
    "print \"Decision Tree Validation Accuracy: \", va\n",
    "\n",
    "filepath = '/dfs/scratch0/paroma/reef/' + 'hardware'\n",
    "np.save(filepath+'_dt_pruned.npy', dt.train_marginals)"
   ]
  },
  {
   "cell_type": "markdown",
   "metadata": {},
   "source": [
    "[**Boosting (AdaBoost)**](http://scikit-learn.org/stable/modules/generated/sklearn.ensemble.AdaBoostClassifier.html#sklearn.ensemble.AdaBoostClassifier) No bound of the number of estimators yet, could bound by number of primitives for \"fair\" comparison?"
   ]
  },
  {
   "cell_type": "code",
   "execution_count": null,
   "metadata": {},
   "outputs": [
    {
     "name": "stdout",
     "output_type": "stream",
     "text": [
      "Boosting Train Accuracy:  0.72447\n",
      "Boosting Validation Accuracy:  1.0\n"
     ]
    }
   ],
   "source": [
    "from baselines.models import BoostClassifier\n",
    "bc = BoostClassifier(train_primitive_matrix, val_primitive_matrix, \n",
    "                            val_ground, train_ground)\n",
    "bc.fit()\n",
    "va,ta, vc, tc = bc.evaluate()\n",
    "print \"Boosting Train Accuracy: \", ta\n",
    "print \"Boosting Validation Accuracy: \", va\n",
    "\n",
    "np.save(filepath+'_bc.npy', bc.train_marginals)"
   ]
  },
  {
   "cell_type": "markdown",
   "metadata": {},
   "source": [
    "[**LabelPropagation (Normal Semi-Supervised)**](http://scikit-learn.org/stable/modules/generated/sklearn.semi_supervised.LabelSpreading.html#sklearn.semi_supervised.LabelSpreading)\n",
    "Semi-supervised method that is robust to noise. Fits with both the labeled and unlabeled examples"
   ]
  },
  {
   "cell_type": "code",
   "execution_count": null,
   "metadata": {},
   "outputs": [],
   "source": [
    "from baselines.models import SemiSupervised\n",
    "ss = SemiSupervised(train_primitive_matrix, val_primitive_matrix, \n",
    "                            val_ground, train_ground)\n",
    "ss.fit()\n",
    "va,ta, vc, tc = ss.evaluate()\n",
    "print \"SemiSupervised Train Accuracy: \", ta\n",
    "print \"SemiSupervised Validation Accuracy: \", va\n",
    "\n",
    "np.save(filepath+'_ss.npy', ss.train_marginals)"
   ]
  },
  {
   "cell_type": "markdown",
   "metadata": {},
   "source": [
    "[**CPLE (Pessimistic Likelihood Estimation for Semi-Supervised)**](https://github.com/tmadl/semisup-learn) Based on the [model](https://arxiv.org/abs/1503.00269) that guarantees that adding in the unlabeled data points will not worsen only training with labeled examples"
   ]
  },
  {
   "cell_type": "code",
   "execution_count": 19,
   "metadata": {},
   "outputs": [
    {
     "ename": "NameError",
     "evalue": "global name 'CPLELearningModel' is not defined",
     "output_type": "error",
     "traceback": [
      "\u001b[0;31m---------------------------------------------------------------------------\u001b[0m",
      "\u001b[0;31mNameError\u001b[0m                                 Traceback (most recent call last)",
      "\u001b[0;32m<ipython-input-19-93e1df6c2d8b>\u001b[0m in \u001b[0;36m<module>\u001b[0;34m()\u001b[0m\n\u001b[1;32m      2\u001b[0m css = ContrastiveSemiSupervised(train_primitive_matrix, val_primitive_matrix, \n\u001b[1;32m      3\u001b[0m                             val_ground, train_ground)\n\u001b[0;32m----> 4\u001b[0;31m \u001b[0mcss\u001b[0m\u001b[0;34m.\u001b[0m\u001b[0mfit\u001b[0m\u001b[0;34m(\u001b[0m\u001b[0;34m)\u001b[0m\u001b[0;34m\u001b[0m\u001b[0m\n\u001b[0m\u001b[1;32m      5\u001b[0m \u001b[0mva\u001b[0m\u001b[0;34m,\u001b[0m\u001b[0mta\u001b[0m\u001b[0;34m,\u001b[0m \u001b[0mvc\u001b[0m\u001b[0;34m,\u001b[0m \u001b[0mtc\u001b[0m \u001b[0;34m=\u001b[0m \u001b[0mcss\u001b[0m\u001b[0;34m.\u001b[0m\u001b[0mevaluate\u001b[0m\u001b[0;34m(\u001b[0m\u001b[0;34m)\u001b[0m\u001b[0;34m\u001b[0m\u001b[0m\n\u001b[1;32m      6\u001b[0m \u001b[0;32mprint\u001b[0m \u001b[0;34m\"ContrastiveSemiSupervised Train Accuracy: \"\u001b[0m\u001b[0;34m,\u001b[0m \u001b[0mta\u001b[0m\u001b[0;34m\u001b[0m\u001b[0m\n",
      "\u001b[0;32m/afs/cs.stanford.edu/u/paroma/reef/baselines/models.py\u001b[0m in \u001b[0;36mfit\u001b[0;34m(self)\u001b[0m\n\u001b[1;32m    116\u001b[0m         \u001b[0my\u001b[0m \u001b[0;34m=\u001b[0m \u001b[0mnp\u001b[0m\u001b[0;34m.\u001b[0m\u001b[0mconcatenate\u001b[0m\u001b[0;34m(\u001b[0m\u001b[0;34m(\u001b[0m\u001b[0mval_labels\u001b[0m\u001b[0;34m,\u001b[0m \u001b[0mtrain_labels\u001b[0m\u001b[0;34m)\u001b[0m\u001b[0;34m)\u001b[0m\u001b[0;34m\u001b[0m\u001b[0m\n\u001b[1;32m    117\u001b[0m \u001b[0;34m\u001b[0m\u001b[0m\n\u001b[0;32m--> 118\u001b[0;31m         \u001b[0mself\u001b[0m\u001b[0;34m.\u001b[0m\u001b[0mmodel\u001b[0m \u001b[0;34m=\u001b[0m \u001b[0mCPLELearningModel\u001b[0m\u001b[0;34m(\u001b[0m\u001b[0mbasemodel\u001b[0m\u001b[0;34m)\u001b[0m\u001b[0;34m\u001b[0m\u001b[0m\n\u001b[0m\u001b[1;32m    119\u001b[0m         \u001b[0mself\u001b[0m\u001b[0;34m.\u001b[0m\u001b[0mmodel\u001b[0m\u001b[0;34m.\u001b[0m\u001b[0mfit\u001b[0m\u001b[0;34m(\u001b[0m\u001b[0mX\u001b[0m\u001b[0;34m,\u001b[0m \u001b[0my\u001b[0m\u001b[0;34m)\u001b[0m\u001b[0;34m\u001b[0m\u001b[0m\n\u001b[1;32m    120\u001b[0m \u001b[0;34m\u001b[0m\u001b[0m\n",
      "\u001b[0;31mNameError\u001b[0m: global name 'CPLELearningModel' is not defined"
     ]
    }
   ],
   "source": [
    "from baselines.models import ContrastiveSemiSupervised\n",
    "css = ContrastiveSemiSupervised(train_primitive_matrix, val_primitive_matrix, \n",
    "                            val_ground, train_ground)\n",
    "css.fit()\n",
    "va,ta, vc, tc = css.evaluate()\n",
    "print \"ContrastiveSemiSupervised Train Accuracy: \", ta\n",
    "print \"ContrastiveSemiSupervised Validation Accuracy: \", va"
   ]
  },
  {
   "cell_type": "markdown",
   "metadata": {},
   "source": [
    "### Save Baseline Marginals"
   ]
  },
  {
   "cell_type": "code",
   "execution_count": null,
   "metadata": {},
   "outputs": [],
   "source": [
    "filepath = '/dfs/scratch0/paroma/reef/' + dataset\n",
    "\n",
    "np.save(filepath+'_dt_pruned.npy', dt.train_marginals)\n",
    "np.save(filepath+'_bc.npy', bc.train_marginals)\n",
    "np.save(filepath+'_ss.npy', ss.train_marginals)\n",
    "#np.save(filepath+'_css.npy', css.train_marginals)\n",
    "\n",
    "#np.save(filepath+'_gt.npy', train_ground)"
   ]
  },
  {
   "cell_type": "code",
   "execution_count": null,
   "metadata": {},
   "outputs": [],
   "source": []
  }
 ],
 "metadata": {
  "kernelspec": {
   "display_name": "Python 2",
   "language": "python",
   "name": "python2"
  },
  "language_info": {
   "codemirror_mode": {
    "name": "ipython",
    "version": 2
   },
   "file_extension": ".py",
   "mimetype": "text/x-python",
   "name": "python",
   "nbconvert_exporter": "python",
   "pygments_lexer": "ipython2",
   "version": "2.7.13"
  }
 },
 "nbformat": 4,
 "nbformat_minor": 2
}
