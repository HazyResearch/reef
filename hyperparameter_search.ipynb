{
 "cells": [
  {
   "cell_type": "code",
   "execution_count": 17,
   "metadata": {
    "collapsed": true
   },
   "outputs": [],
   "source": [
    "import numpy as np\n",
    "import matplotlib.pyplot as plt\n",
    "%matplotlib inline\n",
    "\n",
    "import seaborn as sns"
   ]
  },
  {
   "cell_type": "markdown",
   "metadata": {},
   "source": [
    "Run \n",
    "\n",
    "`rsync -aP paroma@dawn11.stanford.edu:/dfs/scratch0/paroma/VisualGenome/bc/*.npz VG_bc/` \n",
    "\n",
    "to get updated npz files"
   ]
  },
  {
   "cell_type": "code",
   "execution_count": 18,
   "metadata": {
    "collapsed": true
   },
   "outputs": [],
   "source": [
    "#Folder where the .npz files are saved\n",
    "data_folder = 'VG_bc/'"
   ]
  },
  {
   "cell_type": "code",
   "execution_count": 19,
   "metadata": {
    "collapsed": true
   },
   "outputs": [],
   "source": [
    "def parse_results_small(file_name):\n",
    "    data = np.load(file_name)\n",
    "    val_f1 = data[\"name7\"]\n",
    "    val_acc = data[\"name3\"]\n",
    "    return val_f1, val_acc"
   ]
  },
  {
   "cell_type": "code",
   "execution_count": 20,
   "metadata": {
    "collapsed": true
   },
   "outputs": [],
   "source": [
    "def parse_results_all(file_name):\n",
    "    data = np.load(file_name)\n",
    "    train_acc = data[\"name1\"]\n",
    "    train_loss = data[\"name2\"]\n",
    "    val_acc = data[\"name3\"]\n",
    "    val_loss = data[\"name4\"]\n",
    "    pr = data[\"name5\"]\n",
    "    re = data[\"name6\"]\n",
    "    f1 = data[\"name7\"]\n",
    "    tpr = data[\"name8\"]\n",
    "    fpr = data[\"name9\"]\n",
    "    thresh = data[\"name10\"]\n",
    "    auc = data[\"name11\"]\n",
    "\n",
    "    return train_acc, train_loss, val_acc, val_loss, pr, re, f1, tpr, fpr, thresh, auc"
   ]
  },
  {
   "cell_type": "code",
   "execution_count": 21,
   "metadata": {
    "collapsed": true
   },
   "outputs": [],
   "source": [
    "#Hyperparams copied from hyperparam_search.py in /dfs/scratch0/paroma/FirstAid/\n",
    "network = 'GoogLe'\n",
    "leftout = []\n",
    "\n",
    "lr_arr = [1e-7, 1e-6, 1e-5]\n",
    "reg_arr = [1e-4, 1e-3, 1e-2, 1e-1]\n",
    "bs_arr = [128]\n",
    "do_arr = [0.2, 0.4, 0.6, 0.8]\n",
    "\n",
    "val_accs = np.zeros((len(lr_arr), len(reg_arr), len(do_arr)))\n",
    "\n",
    "for i,lr in enumerate(lr_arr):\n",
    "    for j,reg in enumerate(reg_arr):\n",
    "        for k,do in enumerate(do_arr):\n",
    "            \n",
    "            try:\n",
    "                val_f1,val_acc =  parse_results_small(data_folder+network+'_'+str(lr)+'_1.0_0.0_'+\n",
    "                                                         str(reg)+'_128_'+str(do)+'.npz')\n",
    "                val_accs[i,j,k] = np.max(val_acc)\n",
    "                val_accs[i,j,k] = np.max(val_f1)\n",
    "                #val_accs[i,j,k] = np.mean(val_acc[-1])\n",
    "            except:\n",
    "                leftout.append((lr,reg,do))\n",
    "                val_accs[i,j,k] = 0.0\n",
    "#np.save('gt_leftout.npy',np.array(leftout))"
   ]
  },
  {
   "cell_type": "markdown",
   "metadata": {},
   "source": [
    "### Plot Hyperparam Search Validation Accuracies"
   ]
  },
  {
   "cell_type": "code",
   "execution_count": 22,
   "metadata": {
    "collapsed": true
   },
   "outputs": [],
   "source": [
    "params = {'legend.fontsize': 'x-large',\n",
    "         'axes.labelsize': 'x-large',\n",
    "         'axes.titlesize':'x-large',\n",
    "         'xtick.labelsize':'x-large',\n",
    "         'ytick.labelsize':'x-large'}\n",
    "plt.rcParams.update(params)\n",
    "sns.set_context(\"poster\")\n",
    "color_list = sns.color_palette(\"PuBuGn_d\",4)"
   ]
  },
  {
   "cell_type": "code",
   "execution_count": 24,
   "metadata": {},
   "outputs": [
    {
     "data": {
      "image/png": "[encoded data removed]",
      "text/plain": [
       "<matplotlib.figure.Figure at 0x116ff9e10>"
      ]
     },
     "metadata": {},
     "output_type": "display_data"
    }
   ],
   "source": [
    "sns.set_style(\"white\")\n",
    "sns.palplot\n",
    "plt.figure(figsize=(8,8))\n",
    "\n",
    "for i in xrange(3):\n",
    "    plt.subplot(3,1,i+1)\n",
    "    for j in xrange(4):\n",
    "        plt.bar(np.array([0,1,2,3])+(0.15*j), val_accs[i,j,:], \n",
    "                label='$\\lambda_2$='+str(reg_arr[j]), color=color_list[j], width=0.15)\n",
    "    \n",
    "    #sns.despine()\n",
    "    plt.ylabel('LR=' + str(lr_arr[i]))\n",
    "    plt.ylim([0.0,1.0])\n",
    "    plt.yticks([0.0,0.5,1.0])\n",
    "    \n",
    "    plt.xticks(np.array([0,1,2,3]) + 1.2 / 4, ('0.2', '0.4', '0.6', '0.8'))\n",
    "    \n",
    "    if i == 3:\n",
    "        plt.xlabel('Dropout', fontsize=18)\n",
    "    \n",
    "    if i == 0:\n",
    "        plt.title('F1 Score', fontsize=18)\n",
    "\n",
    "        \n",
    "    \n",
    "legend = plt.legend(loc='lower center', bbox_transform=plt.gcf().transFigure, \n",
    "                    ncol=4, bbox_to_anchor=(1.05,0,-1,1), fontsize=16)  \n",
    "\n",
    "plt.tight_layout()\n",
    "plt.subplots_adjust(hspace=0.5, bottom=0.15)\n",
    "\n",
    "#plt.savefig('images/gt_hyperparam.png')"
   ]
  },
  {
   "cell_type": "markdown",
   "metadata": {},
   "source": [
    "### Plot with best Hyperparameter Combination"
   ]
  },
  {
   "cell_type": "code",
   "execution_count": 26,
   "metadata": {},
   "outputs": [
    {
     "name": "stdout",
     "output_type": "stream",
     "text": [
      "Best Lr:  1e-06\n",
      "Best Reg:  0.001\n",
      "Best Dropout:  0.4\n",
      "F1 Score:  0.528301886792\n"
     ]
    }
   ],
   "source": [
    "ii,jj,kk = np.unravel_index(val_accs.argmax(), val_accs.shape)\n",
    "print 'Best Lr: ', lr_arr[ii]\n",
    "print 'Best Reg: ', reg_arr[jj]\n",
    "print 'Best Dropout: ', do_arr[kk]\n",
    "print 'F1 Score: ', val_accs.max()"
   ]
  },
  {
   "cell_type": "code",
   "execution_count": 40,
   "metadata": {},
   "outputs": [
    {
     "name": "stdout",
     "output_type": "stream",
     "text": [
      "Best Val Acc:  0.585635359116\n",
      "\n",
      "Best F1:  0.528301886792\n",
      "Best Pr:  0.403846153846\n",
      "Best Re:  0.763636363636\n",
      "\n",
      "Best AUC:  0.641414141414\n"
     ]
    }
   ],
   "source": [
    "# train_acc, train_loss, val_acc, val_loss, pr, re, f1, tpr, fpr, thresh, auc = \\\n",
    "# parse_results_all(data_folder+'long_runs/200_max_'+network+'_'+str(lr_arr[ii])+'_1.0_0.0_'+\n",
    "#                                                         str(reg_arr[jj])+'_128_'+str(do_arr[kk])+'.npz')\n",
    "\n",
    "train_acc, train_loss, val_acc, val_loss, pr, re, f1, tpr, fpr, thresh, auc = \\\n",
    "parse_results_all(data_folder+network+'_'+str(lr_arr[ii])+'_1.0_0.0_'+\n",
    "                  str(reg_arr[jj])+'_128_'+str(do_arr[kk])+'.npz')\n",
    "\n",
    "print 'Best Val Acc: ', np.max(val_acc)\n",
    "print '\\nBest F1: ', np.max(f1)\n",
    "print 'Best Pr: ', pr[np.argmax(f1)]\n",
    "print 'Best Re: ', re[np.argmax(f1)]\n",
    "print '\\nBest AUC: ', auc[0]"
   ]
  }
 ],
 "metadata": {
  "kernelspec": {
   "display_name": "Python 2",
   "language": "python",
   "name": "python2"
  },
  "language_info": {
   "codemirror_mode": {
    "name": "ipython",
    "version": 2
   },
   "file_extension": ".py",
   "mimetype": "text/x-python",
   "name": "python",
   "nbconvert_exporter": "python",
   "pygments_lexer": "ipython2",
   "version": "2.7.13"
  }
 },
 "nbformat": 4,
 "nbformat_minor": 1
}
