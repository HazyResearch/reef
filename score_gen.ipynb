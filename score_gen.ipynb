{
 "cells": [
  {
   "cell_type": "code",
   "execution_count": 13,
   "metadata": {},
   "outputs": [
    {
     "name": "stdout",
     "output_type": "stream",
     "text": [
      "The autoreload extension is already loaded. To reload it, use:\n",
      "  %reload_ext autoreload\n"
     ]
    }
   ],
   "source": [
    "%load_ext autoreload\n",
    "%autoreload 2\n",
    "\n",
    "import numpy as np\n",
    "import matplotlib.pyplot as plt\n",
    "%matplotlib inline\n",
    "\n",
    "import warnings\n",
    "warnings.filterwarnings('ignore')"
   ]
  },
  {
   "cell_type": "markdown",
   "metadata": {},
   "source": [
    "## Score Things\n",
    "Scorer for non-100% coverage labels borrowed from Snorkel: https://github.com/HazyResearch/snorkel/blob/b047dfb032560584752cb5952a82b90943529209/snorkel/learning/utils.py\n",
    "\n",
    "From Snorkel Paper Explanation:\n",
    "\n",
    "*A key takeaway of the following results is that the discriminative model generalizes beyond the heuristics encoded in the labeling functions (as in Example 2.5). In Section 4.1.1, we see that on relation extraction applications the discriminative model improves performance over the generative model primarily by increasing recall by 43.15% on average.*"
   ]
  },
  {
   "cell_type": "code",
   "execution_count": 37,
   "metadata": {},
   "outputs": [],
   "source": [
    "def binary_scores_from_counts(ntp, nfp, ntn, nfn):\n",
    "    \"\"\"\n",
    "    Precision, recall, and F1 scores from counts of TP, FP, TN, FN.\n",
    "    Example usage:\n",
    "        p, r, f1 = binary_scores_from_counts(*map(len, error_sets))\n",
    "    \"\"\"\n",
    "    prec = ntp / float(ntp + nfp) if ntp + nfp > 0 else 0.0\n",
    "    rec  = ntp / float(ntp + nfn) if ntp + nfn > 0 else 0.0\n",
    "    f1   = (2 * prec * rec) / (prec + rec) if prec + rec > 0 else 0.0\n",
    "    return prec, rec, f1\n",
    "\n",
    "def print_scores(ntp, nfp, ntn, nfn, cov, acc, title='Scores'):\n",
    "    prec, rec, f1 = binary_scores_from_counts(ntp, nfp, ntn, nfn)\n",
    "    pos_acc = ntp / float(ntp + nfn) if ntp + nfn > 0 else 0.0\n",
    "    neg_acc = ntn / float(ntn + nfp) if ntn + nfp > 0 else 0.0\n",
    "    print(\"========================================\")\n",
    "    print(title)\n",
    "    print(\"========================================\")\n",
    "    #print(\"Pos. class accuracy: {:.3}\".format(pos_acc*100.))\n",
    "    #print(\"Neg. class accuracy: {:.3}\".format(neg_acc*100.))\n",
    "    print(\"Accuracy:            {:.4}\".format(acc*100.))\n",
    "    print(\"Coverage:            {:.4}\".format(cov*100.))\n",
    "    print(\"Recall               {:.4}\".format(rec*100.))\n",
    "    print(\"Precision            {:.4}\".format(prec*100.))\n",
    "    print(\"F1                   {:.4}\".format(f1*100.))\n",
    "    print(\"----------------------------------------\")\n",
    "    print(\"TP: {} | FP: {} | TN: {} | FN: {}\".format(ntp, nfp, ntn, nfn))\n",
    "    print(\"========================================\\n\")\n",
    "\n",
    "\n",
    "def score_binary(test_labels, test_marginals, train_marginals=None, b=0.5,\n",
    "        set_unlabeled_as_neg=False, set_at_thresh_as_neg=False, display=True):\n",
    "    \"\"\"\n",
    "    Return scoring metric for the provided marginals, as well as candidates\n",
    "    in error buckets.\n",
    "    :param test_marginals: array of marginals for test candidates\n",
    "    :param train_marginals (optional): array of marginals for training\n",
    "        candidates\n",
    "    :param b: threshold for labeling\n",
    "    :param set_unlabeled_as_neg: set test labels at the decision threshold\n",
    "        of b as negative labels\n",
    "    :param set_at_b_as_neg: set marginals at the decision threshold exactly\n",
    "        as negative predictions\n",
    "    :param display: show calibration plots?\n",
    "    \"\"\"\n",
    "    test_marginal_array = np.zeros(np.shape(test_marginals))\n",
    "    tp = 0.\n",
    "    fp = 0.\n",
    "    tn = 0.\n",
    "    fn = 0.\n",
    "\n",
    "    for i in range(len(test_labels)):\n",
    "        # Handle either a LabelMatrix or else assume test_labels array is in\n",
    "        # correct order i.e. same order as test_candidates\n",
    "        test_label = test_labels[i]\n",
    "\n",
    "        # Bucket the candidates for error analysis\n",
    "        if test_label != 0:\n",
    "            if test_marginals[i] > b:\n",
    "                test_marginal_array[i] = 1.0\n",
    "                if test_label == 1:\n",
    "                    tp+=1\n",
    "                else:\n",
    "                    fp+=1\n",
    "            elif test_marginals[i] < b or set_at_thresh_as_neg:\n",
    "                test_marginal_array[i] = -1.0\n",
    "                if test_label == -1:\n",
    "                    tn+=1\n",
    "                else:\n",
    "                    fn+=1\n",
    "        #this is new to count not covered as not labeled\n",
    "        if test_marginals[i] == b: \n",
    "            if test_label == 1:\n",
    "                fn+=1\n",
    "            else:\n",
    "                fp+=1\n",
    "\n",
    "    #such hack \n",
    "    coverage = np.shape(np.where(test_marginals != 0.5))[1]/float(np.shape(np.where(test_marginals != 2))[1])\n",
    "    accuracy = np.shape(np.where(test_marginal_array == test_labels))[1]/float(np.shape(np.where(test_marginals != 0.5))[1])\n",
    "    \n",
    "    print_scores(tp, fp, tn, fn, coverage, accuracy, title=\"Scores (Un-adjusted)\")\n",
    "\n",
    "    return tp, fp, tn, fn, coverage, accuracy, test_marginal_array"
   ]
  },
  {
   "cell_type": "markdown",
   "metadata": {},
   "source": [
    "## Load Dataset"
   ]
  },
  {
   "cell_type": "code",
   "execution_count": 78,
   "metadata": {},
   "outputs": [],
   "source": [
    "dataset='bone_tumor'\n",
    "filename = 'lr2'\n",
    "b = 0.5\n",
    "\n",
    "from data.loader import DataLoader\n",
    "dl = DataLoader()\n",
    "\n",
    "if dataset == 'mammogram':\n",
    "    primitive_matrix, train_primitive_matrix, val_primitive_matrix, \\\n",
    "    [], train_ground, val_ground, [] = dl.load_data(dataset=dataset)\n",
    "else:\n",
    "    train_primitive_matrix, val_primitive_matrix, \\\n",
    "    test_primitive_matrix, train_ground, val_ground, test_ground = dl.load_data(dataset=dataset)\n",
    "#train_marginals = np.load('/dfs/scratch0/paroma/reef/' + dataset + '_reef_' + filename + '.npy')"
   ]
  },
  {
   "cell_type": "markdown",
   "metadata": {},
   "source": [
    "## Synthesis + Verification\n",
    "Generate functions based on feedback from the verifier (vary cardinality)"
   ]
  },
  {
   "cell_type": "code",
   "execution_count": 79,
   "metadata": {},
   "outputs": [
    {
     "name": "stdout",
     "output_type": "stream",
     "text": [
      "3\n",
      "4\n",
      "5\n",
      "6\n",
      "7\n",
      "8\n",
      "9\n",
      "10\n",
      "11\n",
      "12\n",
      "13\n",
      "14\n",
      "15\n",
      "16\n",
      "17\n",
      "18\n",
      "19\n"
     ]
    }
   ],
   "source": [
    "from program_synthesis.heuristic_generator import HeuristicGenerator\n",
    "validation_accuracy = []\n",
    "training_accuracy = []\n",
    "validation_coverage = []\n",
    "training_coverage = []\n",
    "\n",
    "training_marginals = []\n",
    "validation_marginals = []\n",
    "idx = None\n",
    "weights = None\n",
    "\n",
    "hg = HeuristicGenerator(train_primitive_matrix, val_primitive_matrix, \n",
    "                            val_ground, train_ground, \n",
    "                            b=b)\n",
    "for i in range(3,20):\n",
    "    print i\n",
    "    if i == 3:\n",
    "        hg.run_synthesizer(max_cardinality=2, idx=None, weights=weights, keep=3, model='lr')\n",
    "    else:\n",
    "        hg.run_synthesizer(max_cardinality=2, idx=None, weights=weights, keep=1, model='lr')\n",
    "    hg.run_verifier()\n",
    "    \n",
    "    va,ta, vc, tc = hg.evaluate()\n",
    "    validation_accuracy.append(va)\n",
    "    training_accuracy.append(ta)\n",
    "    training_marginals.append(hg.vf.train_marginals)\n",
    "    validation_marginals.append(hg.vf.val_marginals)\n",
    "    validation_coverage.append(vc)\n",
    "    training_coverage.append(tc)\n",
    "        \n",
    "    hg.find_feedback()\n",
    "    idx = hg.feedback_idx\n",
    "    #weights = hg.vf.find_weighted_vague_points()\n",
    "    \n",
    "    if idx == []:\n",
    "        break"
   ]
  },
  {
   "cell_type": "markdown",
   "metadata": {},
   "source": [
    "### Visualize Heuristic Behavior"
   ]
  },
  {
   "cell_type": "code",
   "execution_count": 80,
   "metadata": {},
   "outputs": [
    {
     "data": {
      "text/plain": [
       "<matplotlib.text.Text at 0x7faf5e09dfd0>"
      ]
     },
     "execution_count": 80,
     "metadata": {},
     "output_type": "execute_result"
    },
    {
     "data": {
      "image/png": "[encoded data removed]",
      "text/plain": [
       "<matplotlib.figure.Figure at 0x7faf5eaa0090>"
      ]
     },
     "metadata": {},
     "output_type": "display_data"
    }
   ],
   "source": [
    "plt.figure(figsize=(12,4))\n",
    "plt.subplot(1,2,1)\n",
    "plt.plot(range(3,20),validation_accuracy, color='C0')\n",
    "plt.plot(range(3,20),training_accuracy, color='C1')\n",
    "plt.plot(range(3,20),validation_coverage, color='C0', linestyle='--')\n",
    "plt.plot(range(3,20),training_coverage, color='C1', linestyle='--')\n",
    "plt.legend(['Validation Set', 'Training Set'])\n",
    "plt.xlabel('Number of Heuristics')\n",
    "plt.ylabel('Accuracy and Coverage')\n",
    "#plt.ylim([0.55,1.0])\n",
    "\n",
    "plt.subplot(1,2,2)\n",
    "bm = [(a*b) + (0.5*(1-b)) for a,b in zip(validation_accuracy,validation_coverage)] \n",
    "plt.plot(range(3,20),bm, color='C0')\n",
    "bm = [(a*b) + (0.5*(1-b)) for a,b in zip(training_accuracy,training_coverage)] \n",
    "plt.plot(range(3,20),bm, color='C1')\n",
    "plt.legend(['Validation Set', 'Training Set'])\n",
    "plt.xlabel('Number of Heuristics')\n",
    "plt.ylabel('Accuracy and Coverage')\n",
    "#plt.ylim([0.55,1.0])\n",
    "plt.suptitle('Dataset: ' + dataset)"
   ]
  },
  {
   "cell_type": "code",
   "execution_count": 81,
   "metadata": {},
   "outputs": [
    {
     "name": "stdout",
     "output_type": "stream",
     "text": [
      "Program Synthesis Train Accuracy:  0.7568807339449541\n",
      "Program Synthesis Train Coverage:  0.545\n",
      "Number of Heuristics:  5\n",
      "Program Synthesis Validation Accuracy:  0.8137254901960784\n"
     ]
    }
   ],
   "source": [
    "print \"Program Synthesis Train Accuracy: \", np.max(training_accuracy[1:])\n",
    "print \"Program Synthesis Train Coverage: \", training_coverage[1:][np.argmax(training_accuracy[1:])]\n",
    "print \"Number of Heuristics: \", np.argmax(training_accuracy[1:])+4\n",
    "\n",
    "print \"Program Synthesis Validation Accuracy: \", np.max(validation_accuracy[3:])"
   ]
  },
  {
   "cell_type": "code",
   "execution_count": 82,
   "metadata": {},
   "outputs": [
    {
     "name": "stdout",
     "output_type": "stream",
     "text": [
      "========================================\n",
      "Scores (Un-adjusted)\n",
      "========================================\n",
      "Accuracy:            81.37\n",
      "Coverage:            51.0\n",
      "Recall               29.67\n",
      "Precision            33.75\n",
      "F1                   31.58\n",
      "----------------------------------------\n",
      "TP: 27.0 | FP: 53.0 | TN: 56.0 | FN: 64.0\n",
      "========================================\n",
      "\n"
     ]
    }
   ],
   "source": [
    "tp, fp, tn, fn, coverage, accuracy, test_marginal_array = score_binary(val_ground, validation_marginals[4], b=0.5, set_unlabeled_as_neg=False);"
   ]
  },
  {
   "cell_type": "code",
   "execution_count": null,
   "metadata": {},
   "outputs": [],
   "source": []
  }
 ],
 "metadata": {
  "kernelspec": {
   "display_name": "Python 2",
   "language": "python",
   "name": "python2"
  },
  "language_info": {
   "codemirror_mode": {
    "name": "ipython",
    "version": 2
   },
   "file_extension": ".py",
   "mimetype": "text/x-python",
   "name": "python",
   "nbconvert_exporter": "python",
   "pygments_lexer": "ipython2",
   "version": "2.7.13"
  }
 },
 "nbformat": 4,
 "nbformat_minor": 2
}
